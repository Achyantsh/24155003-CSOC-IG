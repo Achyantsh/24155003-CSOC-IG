{
 "cells": [
  {
   "cell_type": "markdown",
   "id": "8704f65a-e9c2-45ef-941e-d620fd4d571f",
   "metadata": {},
   "source": [
    "Vanilla Neural Network Implementations"
   ]
  },
  {
   "cell_type": "markdown",
   "id": "b1028852-a70d-4b9f-b38b-4f5de2d2de79",
   "metadata": {},
   "source": [
    "-> Pure Python Implemantation using numpy"
   ]
  },
  {
   "cell_type": "code",
   "execution_count": 10,
   "id": "f0332e02-88d2-41ed-83ac-88d9f2bd90cf",
   "metadata": {},
   "outputs": [],
   "source": [
    "import numpy as np\n",
    "import pandas as pd\n",
    "from datetime import datetime\n",
    "import time\n",
    "import matplotlib.pyplot as plt\n",
    "from sklearn.preprocessing import LabelEncoder, StandardScaler\n",
    "from sklearn.model_selection import train_test_split\n",
    "from sklearn.metrics import accuracy_score, f1_score, precision_recall_curve, auc, confusion_matrix"
   ]
  },
  {
   "cell_type": "code",
   "execution_count": 11,
   "id": "78c48292-f042-415b-bf5b-1070a3dcee24",
   "metadata": {},
   "outputs": [],
   "source": [
    "df=pd.read_csv(\"KaggleV2-May-2016.csv\")"
   ]
  },
  {
   "cell_type": "code",
   "execution_count": 38,
   "id": "6753372e-0347-4af6-9926-788882d7771a",
   "metadata": {},
   "outputs": [
    {
     "name": "stdout",
     "output_type": "stream",
     "text": [
      "Training on 88421 samples with features: ['Age', 'Gender', 'Scholarship', 'Hipertension', 'Diabetes', 'Alcoholism', 'Handcap', 'SMS_received', 'Neighbourhood', 'AppointmentWeekday', 'AppointmentGap']\n"
     ]
    },
    {
     "ename": "AttributeError",
     "evalue": "'SimpleNN' object has no attribute 'binary_cross_entropy_loss'",
     "output_type": "error",
     "traceback": [
      "\u001b[31m---------------------------------------------------------------------------\u001b[39m",
      "\u001b[31mAttributeError\u001b[39m                            Traceback (most recent call last)",
      "\u001b[36mCell\u001b[39m\u001b[36m \u001b[39m\u001b[32mIn[38]\u001b[39m\u001b[32m, line 107\u001b[39m\n\u001b[32m    105\u001b[39m model = SimpleNN(input_size=X.shape[\u001b[32m1\u001b[39m], hidden_size=\u001b[32m32\u001b[39m, output_size=\u001b[32m1\u001b[39m, lr=\u001b[32m0.001\u001b[39m)\n\u001b[32m    106\u001b[39m start = time.time()\n\u001b[32m--> \u001b[39m\u001b[32m107\u001b[39m \u001b[43mmodel\u001b[49m\u001b[43m.\u001b[49m\u001b[43mtrain\u001b[49m\u001b[43m(\u001b[49m\u001b[43mX_train\u001b[49m\u001b[43m,\u001b[49m\u001b[43m \u001b[49m\u001b[43my_train\u001b[49m\u001b[43m,\u001b[49m\u001b[43m \u001b[49m\u001b[43mX_val\u001b[49m\u001b[43m,\u001b[49m\u001b[43m \u001b[49m\u001b[43my_val\u001b[49m\u001b[43m,\u001b[49m\u001b[43m \u001b[49m\u001b[43mepochs\u001b[49m\u001b[43m=\u001b[49m\u001b[32;43m1000\u001b[39;49m\u001b[43m)\u001b[49m\n\u001b[32m    108\u001b[39m \u001b[38;5;28mprint\u001b[39m(\u001b[33mf\u001b[39m\u001b[33m\"\u001b[39m\u001b[33mTraining time: \u001b[39m\u001b[38;5;132;01m{\u001b[39;00mtime.time()\u001b[38;5;250m \u001b[39m-\u001b[38;5;250m \u001b[39mstart\u001b[38;5;132;01m:\u001b[39;00m\u001b[33m.2f\u001b[39m\u001b[38;5;132;01m}\u001b[39;00m\u001b[33m seconds\u001b[39m\u001b[33m\"\u001b[39m)\n\u001b[32m    109\u001b[39m evaluate(model, X_val, y_val)\n",
      "\u001b[36mCell\u001b[39m\u001b[36m \u001b[39m\u001b[32mIn[38]\u001b[39m\u001b[32m, line 67\u001b[39m, in \u001b[36mSimpleNN.train\u001b[39m\u001b[34m(self, X_train, y_train, X_val, y_val, epochs)\u001b[39m\n\u001b[32m     64\u001b[39m \u001b[38;5;28;01mfor\u001b[39;00m epoch \u001b[38;5;129;01min\u001b[39;00m \u001b[38;5;28mrange\u001b[39m(epochs):\n\u001b[32m     65\u001b[39m \u001b[38;5;66;03m# Forward pass\u001b[39;00m\n\u001b[32m     66\u001b[39m     y_pred_train = \u001b[38;5;28mself\u001b[39m.forward(X_train)\n\u001b[32m---> \u001b[39m\u001b[32m67\u001b[39m     train_loss = \u001b[38;5;28;43mself\u001b[39;49m\u001b[43m.\u001b[49m\u001b[43mbinary_cross_entropy_loss\u001b[49m(y_train, y_pred_train)\n\u001b[32m     69\u001b[39m \u001b[38;5;66;03m# Backward pass\u001b[39;00m\n\u001b[32m     70\u001b[39m     \u001b[38;5;28mself\u001b[39m.backward(X_train, y_train, y_pred_train)\n",
      "\u001b[31mAttributeError\u001b[39m: 'SimpleNN' object has no attribute 'binary_cross_entropy_loss'"
     ]
    }
   ],
   "source": [
    "# 1. Load and clean the data\n",
    "def load_data(filename):\n",
    "    df=pd.read_csv(filename)\n",
    "    df['ScheduledDay'] = pd.to_datetime(df['ScheduledDay'])\n",
    "    df['AppointmentDay'] = pd.to_datetime(df['AppointmentDay'])\n",
    "    df['AppointmentWeekday'] = df['AppointmentDay'].dt.dayofweek\n",
    "    df['AppointmentGap'] = (df['AppointmentDay'] - df['ScheduledDay']).dt.days\n",
    "    df['Gender'] = df['Gender'].map({'F': 0, 'M': 1})\n",
    "    df['No-show'] = df['No-show'].map({'No': 0, 'Yes': 1})\n",
    "    df['Neighbourhood'] = LabelEncoder().fit_transform(df['Neighbourhood'])\n",
    "    return df\n",
    "\n",
    "# 2. Select features and labels\n",
    "def get_features_and_labels(df):\n",
    "    features = ['Age', 'Gender', 'Scholarship', 'Hipertension', 'Diabetes',\n",
    "                'Alcoholism', 'Handcap', 'SMS_received', 'Neighbourhood',\n",
    "                'AppointmentWeekday', 'AppointmentGap']\n",
    "    X = df[features].fillna(0).values\n",
    "    y = df['No-show'].values.reshape(-1, 1)\n",
    "    X = (X - X.mean(axis=0)) / (X.std(axis=0) + 1e-8)\n",
    "    return X, y, features\n",
    "\n",
    "# 3. Build a simple neural network\n",
    "class SimpleNN:\n",
    "    def __init__(self, input_size, hidden_size, output_size, lr=0.001):\n",
    "        self.W1 = np.random.randn(input_size, hidden_size) * np.sqrt(2. / input_size)\n",
    "        self.b1 = np.zeros((1, hidden_size))\n",
    "        self.W2 = np.random.randn(hidden_size, output_size) * np.sqrt(2. / hidden_size)\n",
    "        self.b2 = np.zeros((1, output_size))\n",
    "        self.lr = lr\n",
    "    \n",
    "    def relu(self, x): return np.maximum(0, x)\n",
    "    def relu_deriv(self, x): return (x > 0).astype(float)\n",
    "    def sigmoid(self, x): return 1 / (1 + np.exp(-np.clip(x, -500, 500)))\n",
    "    def loss(self, y, y_pred):\n",
    "        y_pred = np.clip(y_pred, 1e-15, 1 - 1e-15)\n",
    "        return -np.mean(y * np.log(y_pred) + (1 - y) * np.log(1 - y_pred))\n",
    "\n",
    "    def forward(self, X):\n",
    "        self.Z1 = np.dot(X, self.W1) + self.b1\n",
    "        self.A1 = self.relu(self.Z1)\n",
    "        self.Z2 = np.dot(self.A1, self.W2) + self.b2\n",
    "        self.A2 = self.sigmoid(self.Z2)\n",
    "        return self.A2\n",
    "\n",
    "    def backward(self, X, y, output):\n",
    "        m = y.shape[0]\n",
    "        dZ2 = output - y\n",
    "        dW2 = np.dot(self.A1.T, dZ2) / m\n",
    "        db2 = np.sum(dZ2, axis=0, keepdims=True) / m\n",
    "        dA1 = np.dot(dZ2, self.W2.T)\n",
    "        dZ1 = dA1 * self.relu_deriv(self.Z1)\n",
    "        dW1 = np.dot(X.T, dZ1) / m\n",
    "        db1 = np.sum(dZ1, axis=0, keepdims=True) / m\n",
    "        self.W1 -= self.lr * dW1\n",
    "        self.b1 -= self.lr * db1\n",
    "        self.W2 -= self.lr * dW2\n",
    "        self.b2 -= self.lr * db2\n",
    "\n",
    "    def train(self, X_train, y_train, X_val, y_val, epochs):\n",
    "        start_time = time.time()\n",
    "        self.epoch_times = []  # Store cumulative time in seconds\n",
    "\n",
    "        for epoch in range(epochs):\n",
    "        # Forward pass\n",
    "            y_pred_train = self.forward(X_train)\n",
    "            train_loss = self.binary_cross_entropy_loss(y_train, y_pred_train)\n",
    "\n",
    "        # Backward pass\n",
    "            self.backward(X_train, y_train, y_pred_train)\n",
    "\n",
    "        # Validation loss\n",
    "            y_pred_val = self.forward(X_val)\n",
    "            val_loss = self.binary_cross_entropy_loss(y_val, y_pred_val)\n",
    "\n",
    "        # Store losses and time\n",
    "            self.train_losses.append(train_loss)\n",
    "            self.val_losses.append(val_loss)\n",
    "            self.epoch_times.append(time.time() - start_time)\n",
    "\n",
    "            if epoch % 100 == 0:\n",
    "                print(f\"Epoch {epoch}, Train Loss: {train_loss:.4f}, Val Loss: {val_loss:.4f}\")\n",
    "\n",
    "\n",
    "    def predict(self, X):\n",
    "        return (self.forward(X) > 0.5).astype(int)\n",
    "\n",
    "# 4. Evaluate model\n",
    "def evaluate(model, X_val, y_val):\n",
    "    pred = model.predict(X_val)\n",
    "    proba = model.forward(X_val)\n",
    "    acc = accuracy_score(y_val, pred)\n",
    "    f1 = f1_score(y_val, pred)\n",
    "    cm = confusion_matrix(y_val, pred)\n",
    "    pr, re, _ = precision_recall_curve(y_val, proba)\n",
    "    pr_auc = auc(re, pr)\n",
    "    print(f\"Accuracy: {acc:.4f}, F1 Score: {f1:.4f}, PR AUC: {pr_auc:.4f}\\nConfusion Matrix:\\n{cm}\")\n",
    "\n",
    "# 5. Run everything\n",
    "df = load_data('KaggleV2-May-2016.csv')\n",
    "X, y, features = get_features_and_labels(df)\n",
    "X_train, X_val, y_train, y_val = train_test_split(X, y, test_size=0.2, random_state=42, stratify=y)\n",
    "\n",
    "print(f\"Training on {X_train.shape[0]} samples with features: {features}\")\n",
    "model = SimpleNN(input_size=X.shape[1], hidden_size=32, output_size=1, lr=0.001)\n",
    "start = time.time()\n",
    "model.train(X_train, y_train, X_val, y_val, epochs=1000)\n",
    "print(f\"Training time: {time.time() - start:.2f} seconds\")\n",
    "evaluate(model, X_val, y_val)\n",
    "def plot_training_curves_over_time(model):\n",
    "    plt.figure(figsize=(10, 5))\n",
    "    plt.plot(model.epoch_times, model.train_losses, label='Training Loss')\n",
    "    plt.plot(model.epoch_times, model.val_losses, label='Validation Loss')\n",
    "    plt.xlabel('Time (seconds)')\n",
    "    plt.ylabel('Loss')\n",
    "    plt.title('Training and Validation Loss over Time')\n",
    "    plt.legend()\n",
    "    plt.grid(True)\n",
    "    plt.tight_layout()\n",
    "    plt.show()\n"
   ]
  },
  {
   "cell_type": "markdown",
   "id": "6b1327cf-cd47-44b6-b6bd-c3532f9f7df6",
   "metadata": {},
   "source": [
    " "
   ]
  },
  {
   "cell_type": "markdown",
   "id": "04bf0c0c-1cb5-4ee8-810d-9c4036adebd0",
   "metadata": {},
   "source": [
    "-> Pytorch Implementation"
   ]
  },
  {
   "cell_type": "code",
   "execution_count": null,
   "id": "926c0344-a72c-41df-99e7-961ca32d45b7",
   "metadata": {},
   "outputs": [],
   "source": []
  }
 ],
 "metadata": {
  "kernelspec": {
   "display_name": "Python 3 (ipykernel)",
   "language": "python",
   "name": "python3"
  },
  "language_info": {
   "codemirror_mode": {
    "name": "ipython",
    "version": 3
   },
   "file_extension": ".py",
   "mimetype": "text/x-python",
   "name": "python",
   "nbconvert_exporter": "python",
   "pygments_lexer": "ipython3",
   "version": "3.13.1"
  }
 },
 "nbformat": 4,
 "nbformat_minor": 5
}
