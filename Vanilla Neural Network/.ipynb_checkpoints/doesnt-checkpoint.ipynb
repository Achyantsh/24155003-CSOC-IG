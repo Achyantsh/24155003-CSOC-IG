{
 "cells": [
  {
   "cell_type": "code",
   "execution_count": 5,
   "id": "9e2572f2-c4d6-4d64-8207-d9912d0c3b5e",
   "metadata": {},
   "outputs": [],
   "source": [
    "import pandas as pd\n",
    "import numpy as np\n",
    "from sklearn.model_selection import train_test_split\n",
    "from sklearn.preprocessing import StandardScaler"
   ]
  },
  {
   "cell_type": "code",
   "execution_count": 9,
   "id": "cad9de7f-33ee-4385-89fd-cab05923f110",
   "metadata": {},
   "outputs": [],
   "source": [
    "\n",
    "def preprocess_data(df):\n",
    "    df = df.copy()\n",
    "\n",
    "    # Convert 'No-show' to binary\n",
    "    df['No-show'] = df['No-show'].map({'No': 0,'Yes': 1})\n",
    "\n",
    "    # Encode Gender\n",
    "    df['Gender'] = df['Gender'].map({'F':0,'M':1})\n",
    "\n",
    "    # Drop unnecessary columns\n",
    "    df.drop(columns=['PatientId', 'AppointmentID', 'ScheduledDay', 'AppointmentDay'], inplace=True)\n",
    "\n",
    "    # Remove negative ages\n",
    "    df = df[df['Age']>=0]\n",
    "\n",
    "   \n",
    "    df = pd.get_dummies(df, columns=['Neighbourhood'], drop_first=True)    # One-hot encode\n",
    "\n",
    "    # Features and target\n",
    "    X = df.drop('No-show', axis=1).values\n",
    "    y = df['No-show'].values.reshape(-1, 1)\n",
    "\n",
    "    # Normalize features\n",
    "    scaler = StandardScaler()\n",
    "    X = scaler.fit_transform(X)\n",
    "\n",
    "    return train_test_split(X, y, test_size=0.2, random_state=42)\n"
   ]
  },
  {
   "cell_type": "code",
   "execution_count": 10,
   "id": "e068bd72-db50-49bd-8265-80332a3ce71a",
   "metadata": {},
   "outputs": [],
   "source": [
    "df=pd.read_csv('KaggleV2-May-2016.csv') #read data\n",
    "X_train, X_val, y_train, y_val = preprocess_data(df)#process data"
   ]
  },
  {
   "cell_type": "code",
   "execution_count": 11,
   "id": "5d3d15fd-bee4-4ad7-9a60-f48b6c4089da",
   "metadata": {},
   "outputs": [],
   "source": [
    "class VanillaNN:\n",
    "    def __init__(self, input_size, hidden_size=64, output_size=1):\n",
    "        np.random.seed(42)\n",
    "        self.W1 = np.random.randn(input_size, hidden_size) * 0.01\n",
    "        self.b1 = np.zeros((1, hidden_size))\n",
    "        self.W2 = np.random.randn(hidden_size, output_size) * 0.01\n",
    "        self.b2 = np.zeros((1, output_size))\n",
    "\n",
    "    def sigmoid(self, z):\n",
    "        return 1 / (1 + np.exp(-z))\n",
    "\n",
    "    def sigmoid_deriv(self, a):\n",
    "        return a * (1 - a)\n",
    "\n",
    "    def forward(self, X):\n",
    "        Z1 = X @ self.W1 + self.b1\n",
    "        A1 = self.sigmoid(Z1)\n",
    "        Z2 = A1 @ self.W2 + self.b2\n",
    "        A2 = self.sigmoid(Z2)\n",
    "        return Z1, A1, Z2, A2\n",
    "\n",
    "    def compute_loss(self, y, A2):\n",
    "        m = y.shape[0]\n",
    "        return -np.mean(y * np.log(A2 + 1e-8) + (1 - y) * np.log(1 - A2 + 1e-8))\n",
    "\n",
    "    def backward(self, X, y, Z1, A1, Z2, A2, lr=0.1):\n",
    "        m = y.shape[0]\n",
    "\n",
    "        dZ2 = A2 - y\n",
    "        dW2 = A1.T @ dZ2 / m\n",
    "        db2 = np.mean(dZ2, axis=0, keepdims=True)\n",
    "\n",
    "        dA1 = dZ2 @ self.W2.T\n",
    "        dZ1 = dA1 * self.sigmoid_deriv(A1)\n",
    "        dW1 = X.T @ dZ1 / m\n",
    "        db1 = np.mean(dZ1, axis=0, keepdims=True)\n",
    "\n",
    "        self.W1 -= lr * dW1\n",
    "        self.b1 -= lr * db1\n",
    "        self.W2 -= lr * dW2\n",
    "        self.b2 -= lr * db2\n"
   ]
  },
  {
   "cell_type": "code",
   "execution_count": 12,
   "id": "01c6ceac-569b-40b6-b7a7-086b9b95e561",
   "metadata": {},
   "outputs": [
    {
     "name": "stdout",
     "output_type": "stream",
     "text": [
      "Epoch 0 | Loss: 0.6926\n",
      "Epoch 100 | Loss: 0.5038\n",
      "Epoch 200 | Loss: 0.5035\n",
      "Epoch 300 | Loss: 0.5032\n",
      "Epoch 400 | Loss: 0.5028\n",
      "Epoch 500 | Loss: 0.5025\n",
      "Epoch 600 | Loss: 0.5021\n",
      "Epoch 700 | Loss: 0.5017\n",
      "Epoch 800 | Loss: 0.5013\n",
      "Epoch 900 | Loss: 0.5008\n",
      "\n",
      "Accuracy: 0.8014\n",
      "F1 Score: 0.0000\n",
      "PR-AUC: 0.2635\n",
      "Confusion Matrix:\n",
      " [[17715     0]\n",
      " [ 4391     0]]\n",
      "Training Time: 656.4189693927765\n"
     ]
    }
   ],
   "source": [
    "from sklearn.metrics import accuracy_score, f1_score, confusion_matrix, precision_recall_curve, auc\n",
    "import time\n",
    "\n",
    "# Prepare the data\n",
    "X_train, X_val, y_train, y_val = preprocess_data(df)\n",
    "\n",
    "# Initialize and train the model\n",
    "nn = VanillaNN(input_size=X_train.shape[1])\n",
    "start = time.time()\n",
    "for epoch in range(1000):\n",
    "    Z1, A1, Z2, A2 = nn.forward(X_train)\n",
    "    loss = nn.compute_loss(y_train, A2)\n",
    "    nn.backward(X_train, y_train, Z1, A1, Z2, A2, lr=0.1)\n",
    "    if epoch % 100 == 0:\n",
    "        print(f\"Epoch {epoch} | Loss: {loss:.4f}\")\n",
    "end = time.time()\n",
    "\n",
    "# Validation\n",
    "_, _, _, A2_val = nn.forward(X_val)\n",
    "y_pred = (A2_val > 0.5).astype(int)\n",
    "\n",
    "# Evaluation Metrics\n",
    "acc = accuracy_score(y_val, y_pred)\n",
    "f1 = f1_score(y_val, y_pred)\n",
    "cm = confusion_matrix(y_val, y_pred)\n",
    "prec, rec, _ = precision_recall_curve(y_val, A2_val)\n",
    "pr_auc = auc(rec, prec)\n",
    "\n",
    "print(f\"\\nAccuracy: {acc:.4f}\\nF1 Score: {f1:.4f}\\nPR-AUC: {pr_auc:.4f}\")\n",
    "print(\"Confusion Matrix:\\n\", cm)\n",
    "print(\"Training Time:\", end - start)\n"
   ]
  },
  {
   "cell_type": "code",
   "execution_count": null,
   "id": "170698be-7c78-4641-9967-65a1e37a82c5",
   "metadata": {},
   "outputs": [],
   "source": []
  }
 ],
 "metadata": {
  "kernelspec": {
   "display_name": "Python 3 (ipykernel)",
   "language": "python",
   "name": "python3"
  },
  "language_info": {
   "codemirror_mode": {
    "name": "ipython",
    "version": 3
   },
   "file_extension": ".py",
   "mimetype": "text/x-python",
   "name": "python",
   "nbconvert_exporter": "python",
   "pygments_lexer": "ipython3",
   "version": "3.13.1"
  }
 },
 "nbformat": 4,
 "nbformat_minor": 5
}
