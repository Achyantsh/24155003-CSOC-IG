{
 "cells": [
  {
   "cell_type": "code",
   "execution_count": 4,
   "id": "beea3680-3117-4ebd-80ea-107c1d6902f8",
   "metadata": {},
   "outputs": [
    {
     "name": "stdout",
     "output_type": "stream",
     "text": [
      "Epoch 0, Cost: 28058813258.967407\n",
      "Epoch 100, Cost: 6423143894.967642\n",
      "Epoch 200, Cost: 3415891716.608749\n",
      "Epoch 300, Cost: 2935810521.9377365\n",
      "Epoch 400, Cost: 2812114569.348062\n",
      "Epoch 500, Cost: 2746928344.2381597\n",
      "Epoch 600, Cost: 2697554198.0897646\n",
      "Epoch 700, Cost: 2656723271.8183813\n",
      "Epoch 800, Cost: 2622351769.5012493\n",
      "Epoch 900, Cost: 2593280461.114898\n",
      "Trained parameters (theta): [206855.4825604294, -43359.465322032, -48633.53602124988, 20382.5867714799, -4813.181463459487, 22149.379808792553, -32437.14629891768, 22518.890781989725, 78364.03535757643]\n",
      "Final cost: 2568861340.592311\n"
     ]
    }
   ],
   "source": [
    "# Multivariable Linear Regression using Gradient Descent in Core Python\n",
    "\n",
    "def read_csv(filename):\n",
    "    with open(filename, 'r') as f:\n",
    "        lines = f.readlines()\n",
    "    headers = lines[0].strip().split(',')\n",
    "    data = []\n",
    "    for line in lines[1:]:\n",
    "        parts = line.strip().split(',')\n",
    "        if '' in parts:\n",
    "            continue  # skip rows with missing values\n",
    "        try:\n",
    "            row = [float(parts[i]) for i in range(len(parts)) if headers[i] != 'ocean_proximity']\n",
    "            data.append(row)\n",
    "        except ValueError:\n",
    "            continue\n",
    "    return headers, data\n",
    "\n",
    "def normalize_features(data):\n",
    "    # Transpose to get columns\n",
    "    cols = list(zip(*data))\n",
    "    means = [sum(col)/len(col) for col in cols[:-1]]  # exclude target\n",
    "    stds = []\n",
    "    for i, col in enumerate(cols[:-1]):\n",
    "        mean = means[i]\n",
    "        std = (sum((x - mean) ** 2 for x in col) / len(col)) ** 0.5\n",
    "        stds.append(std)\n",
    "    norm_data = []\n",
    "    for row in data:\n",
    "        norm_row = [(row[i] - means[i]) / stds[i] if stds[i] != 0 else 0 for i in range(len(row)-1)]\n",
    "        norm_row.insert(0, 1.0)  # bias term\n",
    "        norm_row.append(row[-1])  # target\n",
    "        norm_data.append(norm_row)\n",
    "    return norm_data, means, stds\n",
    "\n",
    "def gradient_descent(data, alpha=0.01, epochs=1000):\n",
    "    m = len(data)\n",
    "    n = len(data[0]) - 1  # number of features including bias\n",
    "    theta = [0.0] * n\n",
    "    for epoch in range(epochs):\n",
    "        gradients = [0.0] * n\n",
    "        cost = 0.0\n",
    "        for row in data:\n",
    "            x = row[:-1]\n",
    "            y = row[-1]\n",
    "            prediction = sum(theta[i] * x[i] for i in range(n))\n",
    "            error = prediction - y\n",
    "            for i in range(n):\n",
    "                gradients[i] += error * x[i]\n",
    "            cost += error ** 2\n",
    "        for i in range(n):\n",
    "            theta[i] -= (alpha / m) * gradients[i]\n",
    "        if epoch % 100 == 0:\n",
    "            print(f\"Epoch {epoch}, Cost: {cost / (2 * m)}\")\n",
    "    return theta, cost / (2 * m)\n",
    "\n",
    "def main():\n",
    "    headers, data = read_csv(\"housing.csv\")\n",
    "    processed_data, means, stds = normalize_features(data)\n",
    "    theta, final_cost = gradient_descent(processed_data)\n",
    "    print(\"Trained parameters (theta):\", theta)\n",
    "    print(\"Final cost:\", final_cost)\n",
    "\n",
    "if __name__ == \"__main__\":\n",
    "    main()\n"
   ]
  },
  {
   "cell_type": "code",
   "execution_count": null,
   "id": "6d09870d-7b9d-4740-a765-e47f61e10b4f",
   "metadata": {},
   "outputs": [],
   "source": []
  }
 ],
 "metadata": {
  "kernelspec": {
   "display_name": "Python 3 (ipykernel)",
   "language": "python",
   "name": "python3"
  },
  "language_info": {
   "codemirror_mode": {
    "name": "ipython",
    "version": 3
   },
   "file_extension": ".py",
   "mimetype": "text/x-python",
   "name": "python",
   "nbconvert_exporter": "python",
   "pygments_lexer": "ipython3",
   "version": "3.13.1"
  }
 },
 "nbformat": 4,
 "nbformat_minor": 5
}
