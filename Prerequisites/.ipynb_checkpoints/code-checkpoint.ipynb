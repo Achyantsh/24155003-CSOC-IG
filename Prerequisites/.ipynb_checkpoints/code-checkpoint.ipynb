{
 "cells": [
  {
   "cell_type": "code",
   "execution_count": 52,
   "id": "b611a317-56e8-4230-badb-1beb4a2bc424",
   "metadata": {},
   "outputs": [
    {
     "ename": "ModuleNotFoundError",
     "evalue": "No module named 'sklearn'",
     "output_type": "error",
     "traceback": [
      "\u001b[31m---------------------------------------------------------------------------\u001b[39m",
      "\u001b[31mModuleNotFoundError\u001b[39m                       Traceback (most recent call last)",
      "\u001b[36mCell\u001b[39m\u001b[36m \u001b[39m\u001b[32mIn[52]\u001b[39m\u001b[32m, line 7\u001b[39m\n\u001b[32m      5\u001b[39m \u001b[38;5;28;01mimport\u001b[39;00m\u001b[38;5;250m \u001b[39m\u001b[34;01mtime\u001b[39;00m\n\u001b[32m      6\u001b[39m \u001b[38;5;28;01mimport\u001b[39;00m\u001b[38;5;250m \u001b[39m\u001b[34;01mpandas\u001b[39;00m\u001b[38;5;250m \u001b[39m\u001b[38;5;28;01mas\u001b[39;00m\u001b[38;5;250m \u001b[39m\u001b[34;01mpd\u001b[39;00m\n\u001b[32m----> \u001b[39m\u001b[32m7\u001b[39m \u001b[38;5;28;01mfrom\u001b[39;00m\u001b[38;5;250m \u001b[39m\u001b[34;01msklearn\u001b[39;00m\u001b[34;01m.\u001b[39;00m\u001b[34;01mmodel_selection\u001b[39;00m\u001b[38;5;250m \u001b[39m\u001b[38;5;28;01mimport\u001b[39;00m train_test_split\n\u001b[32m      8\u001b[39m \u001b[38;5;28;01mfrom\u001b[39;00m\u001b[38;5;250m \u001b[39m\u001b[34;01msklearn\u001b[39;00m\u001b[34;01m.\u001b[39;00m\u001b[34;01mlinear_model\u001b[39;00m\u001b[38;5;250m \u001b[39m\u001b[38;5;28;01mimport\u001b[39;00m LinearRegression\n\u001b[32m      9\u001b[39m \u001b[38;5;28;01mfrom\u001b[39;00m\u001b[38;5;250m \u001b[39m\u001b[34;01msklearn\u001b[39;00m\u001b[34;01m.\u001b[39;00m\u001b[34;01mmetrics\u001b[39;00m\u001b[38;5;250m \u001b[39m\u001b[38;5;28;01mimport\u001b[39;00m mean_squared_error, r2_score\n",
      "\u001b[31mModuleNotFoundError\u001b[39m: No module named 'sklearn'"
     ]
    }
   ],
   "source": [
    "# Imports\n",
    "import matplotlib.pyplot as plt\n",
    "import math\n",
    "import numpy as np\n",
    "import time\n",
    "import pandas as pd\n",
    "from sklearn.model_selection import train_test_split\n",
    "from sklearn.linear_model import LinearRegression\n",
    "from sklearn.metrics import mean_squared_error, r2_score ,mean_absolute_error\n"
   ]
  },
  {
   "cell_type": "code",
   "execution_count": 6,
   "id": "3dc8df9a-d52d-4789-b3cc-69d6185183b2",
   "metadata": {},
   "outputs": [],
   "source": [
    "# --- Step 1: Load and Parse Data ---\n",
    "with open(\"data/housing-complete.csv\", 'r') as f:\n",
    "    lines = f.readlines()\n",
    "\n",
    "column_names = lines[0].strip().split(',')\n",
    "target = 'median_house_value'\n",
    "features = [\n",
    "    'longitude', 'latitude', 'housing_median_age',\n",
    "    'total_rooms', 'total_bedrooms', 'population',\n",
    "    'households', 'median_income'\n",
    "]\n",
    "\n",
    "feature_indexes = [column_names.index(c) for c in features]\n",
    "target_index = column_names.index(target)"
   ]
  },
  {
   "cell_type": "code",
   "execution_count": 9,
   "id": "a6596782-7c39-4d5c-b8d6-a1c863debd10",
   "metadata": {},
   "outputs": [],
   "source": [
    "# Convert to float and clean by skipping incomplete rows\n",
    "data = []\n",
    "for line in lines[1:]:\n",
    "    values=line.strip().split(',')\n",
    "\n",
    "    missing=False\n",
    "    for i in feature_indexes+[target_index]:\n",
    "        if(i>=len(values) or values[i].strip()==''):\n",
    "            missing=True\n",
    "            break\n",
    "    if missing:\n",
    "        continue\n",
    "\n",
    "    feature_values=[]\n",
    "    for i in feature_indexes:\n",
    "        feature_values.append(float(values[i].strip()))\n",
    "    data.append(feature_values)\n"
   ]
  },
  {
   "cell_type": "code",
   "execution_count": 10,
   "id": "3681dda4-af42-4509-8f79-10bb6abafab8",
   "metadata": {},
   "outputs": [],
   "source": [
    "# Split into training (20k) and test (rest) ---\n",
    "train_data = data[:20000]\n",
    "test_data = data[20000:]\n",
    "\n",
    "X_train = [row[:-1] for row in train_data]\n",
    "y_train = [row[-1] for row in train_data]\n",
    "\n",
    "X_test_raw = [row[:-1] for row in test_data]\n",
    "y_test = [row[-1] for row in test_data]\n",
    "\n",
    "# Normalize (min-max using TRAIN stats only) ---\n",
    "def get_min_max(X):\n",
    "    num_features = len(X[0])\n",
    "    mins = [min([row[i] for row in X]) for i in range(num_features)]\n",
    "    maxs = [max([row[i] for row in X]) for i in range(num_features)]\n",
    "    return mins, maxs\n",
    "\n",
    "def normalize_given(X, mins, maxs):\n",
    "    normalized = []\n",
    "    for row in X:\n",
    "        new_row = []\n",
    "        for i in range(len(row)):\n",
    "            if maxs[i] == mins[i]:\n",
    "                new_row.append(0.0)\n",
    "            else:\n",
    "                val = (row[i] - mins[i]) / (maxs[i] - mins[i])\n",
    "                new_row.append(val)\n",
    "        normalized.append(new_row)\n",
    "    return normalized\n",
    "\n",
    "mins, maxs = get_min_max(X_train)\n",
    "X_train = normalize_given(X_train, mins, maxs)\n",
    "X_test = normalize_given(X_test_raw, mins, maxs)"
   ]
  },
  {
   "cell_type": "markdown",
   "id": "666acfac-0aff-4c69-bafb-addc0d1f252e",
   "metadata": {},
   "source": [
    "# Code for Implementation type 1: Pure Python"
   ]
  },
  {
   "cell_type": "code",
   "execution_count": 11,
   "id": "503ebb6e-6999-4213-92b5-78dd96efda50",
   "metadata": {},
   "outputs": [],
   "source": [
    "# ----------- Dot Product -----------\n",
    "def dot_product(a, b):\n",
    "    return sum(a[i] * b[i] for i in range(len(a)))\n",
    "\n",
    "# ----------- Compute Cost -----------\n",
    "def compute_cost(X, y, Ws, b):\n",
    "    n = len(X)\n",
    "    total_error = 0.0\n",
    "    for i in range(n):\n",
    "        y_pred = dot_product(Ws, X[i]) + b\n",
    "        total_error += (y_pred - y[i]) ** 2\n",
    "    return total_error / (2 * n)\n",
    "\n",
    "# ----------- Gradient Descent -----------\n",
    "def gradient_descent(X, y, alpha=0.01, epsilon=0.001, max_itr=1000):\n",
    "    m = len(X[0])       # number of features\n",
    "    n = len(X)          # number of samples\n",
    "    Ws = [0.0] * m      # weights\n",
    "    b = 0.0             # bias\n",
    "\n",
    "    previous_cost = float('inf')\n",
    "    cost_history = []\n",
    "\n",
    "    for itr in range(max_itr):\n",
    "        dw = [0.0] * m\n",
    "        db = 0.0\n",
    "\n",
    "        # Compute gradients\n",
    "        for i in range(n):\n",
    "            y_pred = dot_product(Ws, X[i]) + b\n",
    "            error = y_pred - y[i]\n",
    "            for j in range(m):\n",
    "                dw[j] += error * X[i][j]\n",
    "            db += error\n",
    "\n",
    "        # Update weights and bias\n",
    "        for j in range(m):\n",
    "            Ws[j] -= (alpha * dw[j]) / n\n",
    "        b -= (alpha * db) / n\n",
    "\n",
    "        # Compute and store cost\n",
    "        current_cost = compute_cost(X, y, Ws, b)\n",
    "        cost_history.append(current_cost)\n",
    "\n",
    "        if abs(previous_cost - current_cost) < epsilon:\n",
    "            print(f\"Converged at iteration {itr}, Cost = {current_cost:.6f}\")\n",
    "            break\n",
    "\n",
    "        previous_cost = current_cost\n",
    "\n",
    "        if itr % 100 == 0:\n",
    "            print(f\"Iteration {itr}: Cost = {current_cost:.6f}\")\n",
    "\n",
    "    return Ws, b, cost_history\n",
    "\n",
    "# ----------- Predict Function -----------\n",
    "def predict(x, Ws, b):\n",
    "    return dot_product(x, Ws) + b\n"
   ]
  },
  {
   "cell_type": "code",
   "execution_count": 39,
   "id": "6b639910-108f-4dfe-941e-43d10b4c3042",
   "metadata": {},
   "outputs": [
    {
     "name": "stdout",
     "output_type": "stream",
     "text": [
      "Iteration 0: Cost = 9.239933\n",
      "Iteration 100: Cost = 7.176731\n",
      "Iteration 200: Cost = 5.696566\n",
      "Iteration 300: Cost = 4.634583\n",
      "Iteration 400: Cost = 3.872541\n",
      "Iteration 500: Cost = 3.325632\n",
      "Iteration 600: Cost = 2.933030\n",
      "Iteration 700: Cost = 2.651107\n",
      "Iteration 800: Cost = 2.448570\n",
      "Iteration 900: Cost = 2.302975\n",
      "Iteration 1000: Cost = 2.198226\n",
      "Iteration 1100: Cost = 2.122775\n",
      "Iteration 1200: Cost = 2.068342\n",
      "Iteration 1300: Cost = 2.028987\n",
      "Iteration 1400: Cost = 2.000449\n",
      "Iteration 1500: Cost = 1.979673\n",
      "Iteration 1600: Cost = 1.964467\n",
      "Converged at iteration 1688, Cost = 1.954434\n"
     ]
    }
   ],
   "source": [
    "# Start the timer\n",
    "start_time_pure = time.time()\n",
    "\n",
    "# Train the model\n",
    "Ws_pure, b_pure, cost_history_pure = gradient_descent(X_train, y_train, alpha=0.001, epsilon=0.0001, max_itr = 2000)\n",
    "\n",
    "# End the timer\n",
    "end_time_pure = time.time()\n",
    "\n",
    "# Compute elapsed time\n",
    "elapsed_time_pure = end_time_pure - start_time_pure"
   ]
  },
  {
   "cell_type": "code",
   "execution_count": 29,
   "id": "45cb0f9e-9415-40fd-877d-44a5cf9f573c",
   "metadata": {},
   "outputs": [],
   "source": [
    "def evaluate_model(y_true, y_pred):\n",
    "    n = len(y_true)\n",
    "    mae = sum(abs(y_true[i] - y_pred[i]) for i in range(n)) / n\n",
    "    mse = sum((y_true[i] - y_pred[i]) ** 2 for i in range(n)) / n\n",
    "    rmse = math.sqrt(mse)\n",
    "    mean_y = sum(y_true) / n\n",
    "    ss_tot = sum((y_true[i] - mean_y) ** 2 for i in range(n))\n",
    "    ss_res = sum((y_true[i] - y_pred[i]) ** 2 for i in range(n))\n",
    "    r2 = 1 - (ss_res / ss_tot)\n",
    "    return mae, rmse, r2\n",
    "\n"
   ]
  },
  {
   "cell_type": "code",
   "execution_count": 41,
   "id": "20eeed5d-5f09-41c2-af38-6b40bf7a2034",
   "metadata": {},
   "outputs": [
    {
     "name": "stdout",
     "output_type": "stream",
     "text": [
      "[Pure Python] Test MAE: 1.61\n",
      "[Pure Python] Test RMSE: 2.09\n",
      "[Pure Python] Test R2 Score: -0.2859\n",
      "[Pure Python] Training Time: 249.1836 seconds\n"
     ]
    }
   ],
   "source": [
    "y_pred_pure = [predict(x, Ws_pure, b_pure) for x in X_test]\n",
    "\n",
    "# Evaluate on test set\n",
    "mae_pure, rmse_pure, r2_pure = evaluate_model(y_test, y_pred_pure)\n",
    "print(f\"[Pure Python] Test MAE: {mae_pure:.2f}\")\n",
    "print(f\"[Pure Python] Test RMSE: {rmse_pure:.2f}\")\n",
    "print(f\"[Pure Python] Test R2 Score: {r2_pure:.4f}\")\n",
    "print(f\"[Pure Python] Training Time: {elapsed_time_pure:.4f} seconds\")"
   ]
  },
  {
   "cell_type": "code",
   "execution_count": 42,
   "id": "fbfa51e0-70b5-4d95-851a-e26619e7a80c",
   "metadata": {},
   "outputs": [
    {
     "data": {
      "image/png": "[encoded data removed]",
      "text/plain": [
       "<Figure size 800x500 with 1 Axes>"
      ]
     },
     "metadata": {},
     "output_type": "display_data"
    }
   ],
   "source": [
    "# Plot cost vs. iterations\n",
    "plt.figure(figsize=(8, 5))\n",
    "plt.plot(cost_history_pure, label='Cost over Iterations (Pure Python)', color='blue')\n",
    "plt.xlabel('Iterations')\n",
    "plt.ylabel('Cost')\n",
    "plt.title('Convergence of Cost Function (Pure Python)')\n",
    "plt.legend()\n",
    "plt.grid(True)\n",
    "plt.tight_layout()\n",
    "plt.show()"
   ]
  },
  {
   "cell_type": "markdown",
   "id": "f7872f87-d7f3-451d-b653-dfd58de4435c",
   "metadata": {},
   "source": [
    "# Code for Implementation type 2: Using Numpy"
   ]
  },
  {
   "cell_type": "code",
   "execution_count": 32,
   "id": "9a7f9518-e4e8-4445-b79d-82f664664908",
   "metadata": {},
   "outputs": [],
   "source": [
    "def compute_cost_np(X, y, W, b):\n",
    "    n = X.shape[0]\n",
    "    y_pred = X @ W + b\n",
    "    error = y_pred - y\n",
    "    cost = (1 / (2 * n)) * np.sum(error ** 2)\n",
    "    return cost\n",
    "\n",
    "def gradient_descent_np(X, y, alpha=0.01, epsilon=0.001, max_itr=1000):\n",
    "    n, m = X.shape\n",
    "    W = np.zeros(m)\n",
    "    b = 0.0\n",
    "    cost_history = []\n",
    "    prev_cost = float('inf')\n",
    "\n",
    "    for itr in range(max_itr):\n",
    "        y_pred = X @ W + b\n",
    "        error = y_pred - y\n",
    "        dW = (1 / n) * (X.T @ error)\n",
    "        db = (1 / n) * np.sum(error)\n",
    "\n",
    "        W -= alpha * dW\n",
    "        b -= alpha * db\n",
    "\n",
    "        current_cost = compute_cost_np(X, y, W, b)\n",
    "        cost_history.append(current_cost)\n",
    "\n",
    "        if abs(prev_cost - current_cost) < epsilon:\n",
    "            print(f\"Converged at iteration {itr}, Cost = {current_cost:.6f}\")\n",
    "            break\n",
    "\n",
    "        prev_cost = current_cost\n",
    "        if itr % 100 == 0:\n",
    "            print(f\"Iteration {itr}: Cost = {current_cost:.6f}\")\n",
    "\n",
    "    return W, b, cost_history\n"
   ]
  },
  {
   "cell_type": "code",
   "execution_count": 43,
   "id": "aa5d83af-6a12-4e7b-a3a5-89252152850f",
   "metadata": {},
   "outputs": [
    {
     "name": "stdout",
     "output_type": "stream",
     "text": [
      "Iteration 0: Cost = 9.239933\n",
      "Iteration 100: Cost = 7.176731\n",
      "Iteration 200: Cost = 5.696566\n",
      "Iteration 300: Cost = 4.634583\n",
      "Iteration 400: Cost = 3.872541\n",
      "Iteration 500: Cost = 3.325632\n",
      "Iteration 600: Cost = 2.933030\n",
      "Iteration 700: Cost = 2.651107\n",
      "Iteration 800: Cost = 2.448570\n",
      "Iteration 900: Cost = 2.302975\n",
      "Iteration 1000: Cost = 2.198226\n",
      "Iteration 1100: Cost = 2.122775\n",
      "Iteration 1200: Cost = 2.068342\n",
      "Iteration 1300: Cost = 2.028987\n",
      "Iteration 1400: Cost = 2.000449\n",
      "Iteration 1500: Cost = 1.979673\n",
      "Iteration 1600: Cost = 1.964467\n",
      "Converged at iteration 1688, Cost = 1.954434\n"
     ]
    }
   ],
   "source": [
    "# Convert your normalized lists to NumPy arrays\n",
    "X_train_np = np.array(X_train)\n",
    "y_train_np = np.array(y_train)\n",
    "X_test_np = np.array(X_test)\n",
    "y_test_np = np.array(y_test)\n",
    "\n",
    "# Start the timer\n",
    "start_time_np = time.time()\n",
    "\n",
    "# Train\n",
    "W_np, b_np, cost_history_np = gradient_descent_np(X_train_np, y_train_np, alpha=0.001, epsilon=0.0001, max_itr = 2000)\n",
    "\n",
    "# End the timer\n",
    "end_time_np = time.time()\n",
    "\n",
    "elapsed_time_np = end_time_np - start_time_np\n",
    "\n",
    "# Predict\n",
    "y_pred_np = X_test_np @ W_np + b_np\n"
   ]
  },
  {
   "cell_type": "code",
   "execution_count": 44,
   "id": "9ac459e9-b40b-43e2-91fc-261a00ac68c2",
   "metadata": {},
   "outputs": [
    {
     "name": "stdout",
     "output_type": "stream",
     "text": [
      "[Numpy] Test MAE: 1.61\n",
      "[Numpy] Test RMSE: 2.09\n",
      "[Numpy] Test R2 Score: -0.2859\n",
      "[Numpy] Training Time: 1.5961 seconds\n"
     ]
    }
   ],
   "source": [
    "def evaluate_np(y_true, y_pred):\n",
    "    n = len(y_true)\n",
    "    mae = np.mean(abs(y_true - y_pred))\n",
    "    mse = np.mean((y_true - y_pred) ** 2)\n",
    "    rmse = np.sqrt(mse)\n",
    "    r2 = 1 - (np.sum((y_true - y_pred) ** 2) / np.sum((y_true - np.mean(y_true)) ** 2))\n",
    "    return mae, rmse, r2\n",
    "\n",
    "mae_np, rmse_np, r2_np = evaluate_np(y_test_np, y_pred_np)\n",
    "\n",
    "print(f\"[Numpy] Test MAE: {mae_np:.2f}\")\n",
    "print(f\"[Numpy] Test RMSE: {rmse_np:.2f}\")\n",
    "print(f\"[Numpy] Test R2 Score: {r2_np:.4f}\")\n",
    "print(f\"[Numpy] Training Time: {elapsed_time_np:.4f} seconds\")\n"
   ]
  },
  {
   "cell_type": "code",
   "execution_count": 45,
   "id": "cec690f0-c1db-4784-861d-a5499c0a5bf2",
   "metadata": {},
   "outputs": [
    {
     "data": {
      "image/png": "[encoded data removed]",
      "text/plain": [
       "<Figure size 800x500 with 1 Axes>"
      ]
     },
     "metadata": {},
     "output_type": "display_data"
    }
   ],
   "source": [
    "plt.figure(figsize=(8, 5))\n",
    "plt.plot(cost_history_np, label='Cost over Iterations (NumPy)', color='blue')\n",
    "plt.xlabel('Iterations')\n",
    "plt.ylabel('Cost')\n",
    "plt.title('Convergence of Cost Function (NumPy)')\n",
    "plt.legend()\n",
    "plt.grid(True)\n",
    "plt.tight_layout()\n",
    "plt.show()\n"
   ]
  },
  {
   "cell_type": "markdown",
   "id": "c2c2b9ff-9b5a-4915-8b55-8ea27c164b5e",
   "metadata": {},
   "source": [
    "# Code for Implementation type 3: Using Scikit-learn"
   ]
  },
  {
   "cell_type": "code",
   "execution_count": null,
   "id": "00c3afb8-3b88-49cd-be7f-5db2beb949ea",
   "metadata": {},
   "outputs": [],
   "source": [
    "import pandas as pd\n",
    "from sklearn.model_selection import train_test_split\n",
    "\n",
    "# Load dataset using pandas\n",
    "df = pd.read_csv(\"data/housing-complete.csv\")\n",
    "\n",
    "# Select features and target\n",
    "features = ['longitude','latitude','housing_median_age','total_rooms',\n",
    "            'total_bedrooms','population','households','median_income']\n",
    "target = 'median_house_value'\n",
    "\n",
    "X = df[features]\n",
    "y = df[target]\n",
    "\n",
    "# Normalize features using min-max scaling\n",
    "X_norm = (X - X.min()) / (X.max() - X.min())\n",
    "\n",
    "# Split into train and test sets (20000 train, 641 test)\n",
    "X_train_pd, X_test_pd, y_train_pd, y_test_pd = train_test_split(\n",
    "    X_norm, y, test_size=641, train_size=20000, shuffle=False)\n",
    "\n",
    "# Convert to NumPy arrays for sklearn model\n",
    "X_train_np = X_train_pd.values\n",
    "X_test_np = X_test_pd.values\n",
    "y_train_np = y_train_pd.values\n",
    "y_test_np = y_test_pd.values\n"
   ]
  },
  {
   "cell_type": "code",
   "execution_count": null,
   "id": "a71615d4-3da3-4a33-b9c6-623a8d1b7f7e",
   "metadata": {},
   "outputs": [],
   "source": [
    "# Train the model\n",
    "model = LinearRegression()\n",
    "start_time = time.time()\n",
    "model.fit(X_train_np, y_train_np)\n",
    "end_time = time.time()\n",
    "\n",
    "# Measure time\n",
    "sklearn_training_time = end_time - start_time\n",
    "print(f\"[Scikit-learn] Training Time: {sklearn_training_time:.4f} seconds\")\n",
    "\n",
    "# Predict and evaluate\n",
    "y_pred_sklearn = model.predict(X_test_np)\n",
    "mse_sklearn = mean_squared_error(y_test_np, y_pred_sklearn)\n",
    "rmse_sklearn = math.sqrt(mse_sklearn)\n",
    "r2_sklearn = r2_score(y_test_np, y_pred_sklearn)\n",
    "mae_sklearn = mean_absolute_error(y_test_np, y_pred_sklearn)\n",
    "\n",
    "print(f\"[Scikit-learn] MAE: {mae_sklearn:.2f}\")\n",
    "print(f\"[Scikit-learn] RMSE: {rmse_sklearn:.2f}\")\n",
    "print(f\"[Scikit-learn] R² Score: {r2_sklearn:.4f}\")\n"
   ]
  }
 ],
 "metadata": {
  "kernelspec": {
   "display_name": "Python 3 (ipykernel)",
   "language": "python",
   "name": "python3"
  },
  "language_info": {
   "codemirror_mode": {
    "name": "ipython",
    "version": 3
   },
   "file_extension": ".py",
   "mimetype": "text/x-python",
   "name": "python",
   "nbconvert_exporter": "python",
   "pygments_lexer": "ipython3",
   "version": "3.13.1"
  }
 },
 "nbformat": 4,
 "nbformat_minor": 5
}
