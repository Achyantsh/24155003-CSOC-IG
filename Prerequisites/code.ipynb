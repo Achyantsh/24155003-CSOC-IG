{
 "cells": [
  {
   "cell_type": "code",
   "execution_count": 23,
   "id": "b611a317-56e8-4230-badb-1beb4a2bc424",
   "metadata": {},
   "outputs": [],
   "source": [
    "# Imports\n",
    "import matplotlib.pyplot as plt\n",
    "import math"
   ]
  },
  {
   "cell_type": "code",
   "execution_count": 6,
   "id": "3dc8df9a-d52d-4789-b3cc-69d6185183b2",
   "metadata": {},
   "outputs": [],
   "source": [
    "# --- Step 1: Load and Parse Data ---\n",
    "with open(\"data/housing-complete.csv\", 'r') as f:\n",
    "    lines = f.readlines()\n",
    "\n",
    "column_names = lines[0].strip().split(',')\n",
    "target = 'median_house_value'\n",
    "features = [\n",
    "    'longitude', 'latitude', 'housing_median_age',\n",
    "    'total_rooms', 'total_bedrooms', 'population',\n",
    "    'households', 'median_income'\n",
    "]\n",
    "\n",
    "feature_indexes = [column_names.index(c) for c in features]\n",
    "target_index = column_names.index(target)"
   ]
  },
  {
   "cell_type": "code",
   "execution_count": 9,
   "id": "a6596782-7c39-4d5c-b8d6-a1c863debd10",
   "metadata": {},
   "outputs": [],
   "source": [
    "# Convert to float and clean by skipping incomplete rows\n",
    "data = []\n",
    "for line in lines[1:]:\n",
    "    values=line.strip().split(',')\n",
    "\n",
    "    missing=False\n",
    "    for i in feature_indexes+[target_index]:\n",
    "        if(i>=len(values) or values[i].strip()==''):\n",
    "            missing=True\n",
    "            break\n",
    "    if missing:\n",
    "        continue\n",
    "\n",
    "    feature_values=[]\n",
    "    for i in feature_indexes:\n",
    "        feature_values.append(float(values[i].strip()))\n",
    "    data.append(feature_values)\n"
   ]
  },
  {
   "cell_type": "code",
   "execution_count": 10,
   "id": "3681dda4-af42-4509-8f79-10bb6abafab8",
   "metadata": {},
   "outputs": [],
   "source": [
    "# Split into training (20k) and test (rest) ---\n",
    "train_data = data[:20000]\n",
    "test_data = data[20000:]\n",
    "\n",
    "X_train = [row[:-1] for row in train_data]\n",
    "y_train = [row[-1] for row in train_data]\n",
    "\n",
    "X_test_raw = [row[:-1] for row in test_data]\n",
    "y_test = [row[-1] for row in test_data]\n",
    "\n",
    "# Normalize (min-max using TRAIN stats only) ---\n",
    "def get_min_max(X):\n",
    "    num_features = len(X[0])\n",
    "    mins = [min([row[i] for row in X]) for i in range(num_features)]\n",
    "    maxs = [max([row[i] for row in X]) for i in range(num_features)]\n",
    "    return mins, maxs\n",
    "\n",
    "def normalize_given(X, mins, maxs):\n",
    "    normalized = []\n",
    "    for row in X:\n",
    "        new_row = []\n",
    "        for i in range(len(row)):\n",
    "            if maxs[i] == mins[i]:\n",
    "                new_row.append(0.0)\n",
    "            else:\n",
    "                val = (row[i] - mins[i]) / (maxs[i] - mins[i])\n",
    "                new_row.append(val)\n",
    "        normalized.append(new_row)\n",
    "    return normalized\n",
    "\n",
    "mins, maxs = get_min_max(X_train)\n",
    "X_train = normalize_given(X_train, mins, maxs)\n",
    "X_test = normalize_given(X_test_raw, mins, maxs)"
   ]
  },
  {
   "cell_type": "markdown",
   "id": "666acfac-0aff-4c69-bafb-addc0d1f252e",
   "metadata": {},
   "source": [
    "# Code for Implementation type 1: Pure Python"
   ]
  },
  {
   "cell_type": "code",
   "execution_count": 11,
   "id": "503ebb6e-6999-4213-92b5-78dd96efda50",
   "metadata": {},
   "outputs": [],
   "source": [
    "# ----------- Dot Product -----------\n",
    "def dot_product(a, b):\n",
    "    return sum(a[i] * b[i] for i in range(len(a)))\n",
    "\n",
    "# ----------- Compute Cost -----------\n",
    "def compute_cost(X, y, Ws, b):\n",
    "    n = len(X)\n",
    "    total_error = 0.0\n",
    "    for i in range(n):\n",
    "        y_pred = dot_product(Ws, X[i]) + b\n",
    "        total_error += (y_pred - y[i]) ** 2\n",
    "    return total_error / (2 * n)\n",
    "\n",
    "# ----------- Gradient Descent -----------\n",
    "def gradient_descent(X, y, alpha=0.01, epsilon=0.001, max_itr=1000):\n",
    "    m = len(X[0])       # number of features\n",
    "    n = len(X)          # number of samples\n",
    "    Ws = [0.0] * m      # weights\n",
    "    b = 0.0             # bias\n",
    "\n",
    "    previous_cost = float('inf')\n",
    "    cost_history = []\n",
    "\n",
    "    for itr in range(max_itr):\n",
    "        dw = [0.0] * m\n",
    "        db = 0.0\n",
    "\n",
    "        # Compute gradients\n",
    "        for i in range(n):\n",
    "            y_pred = dot_product(Ws, X[i]) + b\n",
    "            error = y_pred - y[i]\n",
    "            for j in range(m):\n",
    "                dw[j] += error * X[i][j]\n",
    "            db += error\n",
    "\n",
    "        # Update weights and bias\n",
    "        for j in range(m):\n",
    "            Ws[j] -= (alpha * dw[j]) / n\n",
    "        b -= (alpha * db) / n\n",
    "\n",
    "        # Compute and store cost\n",
    "        current_cost = compute_cost(X, y, Ws, b)\n",
    "        cost_history.append(current_cost)\n",
    "\n",
    "        if abs(previous_cost - current_cost) < epsilon:\n",
    "            print(f\"Converged at iteration {itr}, Cost = {current_cost:.6f}\")\n",
    "            break\n",
    "\n",
    "        previous_cost = current_cost\n",
    "\n",
    "        if itr % 100 == 0:\n",
    "            print(f\"Iteration {itr}: Cost = {current_cost:.6f}\")\n",
    "\n",
    "    return Ws, b, cost_history\n",
    "\n",
    "# ----------- Predict Function -----------\n",
    "def predict(x, Ws, b):\n",
    "    return dot_product(x, Ws) + b\n"
   ]
  },
  {
   "cell_type": "code",
   "execution_count": 18,
   "id": "6b639910-108f-4dfe-941e-43d10b4c3042",
   "metadata": {},
   "outputs": [
    {
     "name": "stdout",
     "output_type": "stream",
     "text": [
      "Iteration 0: Cost = 9.239933\n",
      "Iteration 100: Cost = 7.176731\n",
      "Iteration 200: Cost = 5.696566\n",
      "Iteration 300: Cost = 4.634583\n",
      "Iteration 400: Cost = 3.872541\n",
      "Iteration 500: Cost = 3.325632\n",
      "Iteration 600: Cost = 2.933030\n",
      "Iteration 700: Cost = 2.651107\n",
      "Iteration 800: Cost = 2.448570\n",
      "Iteration 900: Cost = 2.302975\n",
      "Iteration 1000: Cost = 2.198226\n",
      "Iteration 1100: Cost = 2.122775\n",
      "Iteration 1200: Cost = 2.068342\n",
      "Iteration 1300: Cost = 2.028987\n",
      "Iteration 1400: Cost = 2.000449\n",
      "Iteration 1500: Cost = 1.979673\n",
      "Iteration 1600: Cost = 1.964467\n",
      "Converged at iteration 1688, Cost = 1.954434\n"
     ]
    }
   ],
   "source": [
    "# Train the model\n",
    "Ws, b, cost_history = gradient_descent(X_train, y_train, alpha=0.001, epsilon=0.0001, max_itr = 2000)"
   ]
  },
  {
   "cell_type": "code",
   "execution_count": 19,
   "id": "fbfa51e0-70b5-4d95-851a-e26619e7a80c",
   "metadata": {},
   "outputs": [
    {
     "data": {
      "image/png": "[encoded data removed]",
      "text/plain": [
       "<Figure size 640x480 with 1 Axes>"
      ]
     },
     "metadata": {},
     "output_type": "display_data"
    }
   ],
   "source": [
    "# Plot cost vs. iterations\n",
    "plt.plot(cost_history)\n",
    "plt.xlabel(\"Iteration\")\n",
    "plt.ylabel(\"Cost (MSE)\")\n",
    "plt.title(\"Gradient Descent Convergence\")\n",
    "plt.grid(True)\n",
    "plt.show()"
   ]
  },
  {
   "cell_type": "code",
   "execution_count": 29,
   "id": "45cb0f9e-9415-40fd-877d-44a5cf9f573c",
   "metadata": {},
   "outputs": [],
   "source": [
    "def evaluate_model(y_true, y_pred):\n",
    "    n = len(y_true)\n",
    "    mae = sum(abs(y_true[i] - y_pred[i]) for i in range(n)) / n\n",
    "    mse = sum((y_true[i] - y_pred[i]) ** 2 for i in range(n)) / n\n",
    "    rmse = math.sqrt(mse)\n",
    "    mean_y = sum(y_true) / n\n",
    "    ss_tot = sum((y_true[i] - mean_y) ** 2 for i in range(n))\n",
    "    ss_res = sum((y_true[i] - y_pred[i]) ** 2 for i in range(n))\n",
    "    r2 = 1 - (ss_res / ss_tot)\n",
    "    return mae, rmse, r2\n",
    "\n"
   ]
  },
  {
   "cell_type": "code",
   "execution_count": 30,
   "id": "20eeed5d-5f09-41c2-af38-6b40bf7a2034",
   "metadata": {},
   "outputs": [
    {
     "name": "stdout",
     "output_type": "stream",
     "text": [
      "Test MAE: 1.61\n",
      "Test RMSE: 2.09\n",
      "Test R2 Score: -0.2859\n"
     ]
    }
   ],
   "source": [
    "y_pred = [predict(x, Ws, b) for x in X_test]\n",
    "\n",
    "# Evaluate on test set\n",
    "mae_pure, rmse_pure, r2_pure = evaluate_model(y_test, y_pred)\n",
    "print(f\"Test MAE: {mae_pure:.2f}\")\n",
    "print(f\"Test RMSE: {rmse_pure:.2f}\")\n",
    "print(f\"Test R2 Score: {r2_pure:.4f}\")"
   ]
  },
  {
   "cell_type": "markdown",
   "id": "f7872f87-d7f3-451d-b653-dfd58de4435c",
   "metadata": {},
   "source": [
    "# Code for Implementation type 2: Using Numpy"
   ]
  },
  {
   "cell_type": "code",
   "execution_count": null,
   "id": "9a7f9518-e4e8-4445-b79d-82f664664908",
   "metadata": {},
   "outputs": [],
   "source": []
  }
 ],
 "metadata": {
  "kernelspec": {
   "display_name": "Python 3 (ipykernel)",
   "language": "python",
   "name": "python3"
  },
  "language_info": {
   "codemirror_mode": {
    "name": "ipython",
    "version": 3
   },
   "file_extension": ".py",
   "mimetype": "text/x-python",
   "name": "python",
   "nbconvert_exporter": "python",
   "pygments_lexer": "ipython3",
   "version": "3.13.1"
  }
 },
 "nbformat": 4,
 "nbformat_minor": 5
}
